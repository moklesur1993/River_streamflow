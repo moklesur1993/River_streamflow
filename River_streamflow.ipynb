{
  "nbformat": 4,
  "nbformat_minor": 0,
  "metadata": {
    "kernelspec": {
      "display_name": "Python 3",
      "language": "python",
      "name": "python3"
    },
    "language_info": {
      "codemirror_mode": {
        "name": "ipython",
        "version": 3
      },
      "file_extension": ".py",
      "mimetype": "text/x-python",
      "name": "python",
      "nbconvert_exporter": "python",
      "pygments_lexer": "ipython3",
      "version": "3.7.2"
    },
    "colab": {
      "name": "Part III---Forecast Discharge with LSTM.ipynb",
      "provenance": []
    },
    "accelerator": "GPU"
  },
  "cells": [
    {
      "cell_type": "markdown",
      "metadata": {
        "id": "Z1R9JoifZi1L",
        "colab_type": "text"
      },
      "source": [
        "# Forecasting with the Long Short-Term Memory (LSTM) Network\n",
        "\n",
        "[LSTM](https://colah.github.io/posts/2015-08-Understanding-LSTMs/) is a type of recurrent neural network (RNN) architecture capable of learning long-term dependencies. LSTM is a well-suited tool to approximate a highly nonlinear approximation. LSTM uses computation graphs to approximate functions. Further information on LSTM computational units can be found [here](https://colah.github.io/posts/2015-08-Understanding-LSTMs/).\n",
        "The LSTM in this project is implemented in Keras. The steps applied are:\n",
        "1. Prepare LSTM data\n",
        "   + LSTM in Keras requires time series to be transformed into supervised learning, into input and output data. The data also need to be normalized within the scale of the activation function used by the network.\n",
        "2. Develop LSTM model\n",
        "   + Network parameters need to be specified\n",
        "      + Batch size \n",
        "      + Number of neurons\n",
        "      + Number hidden layer\n",
        "      + Optimizer\n",
        "      + Loss function\n",
        "      + Number of iteration (epoch)\n",
        "3. Validate forecast\n",
        "   + A testing data set will be used to evaluate network performance.\n",
        "4. Parameter tuning\n",
        "   + Model parameters will be tuned to optimize performance by training LSTM network under a different configuration of neurons, bach size, and epoch."
      ]
    },
    {
      "cell_type": "code",
      "metadata": {
        "id": "U1sbRDHBZ6RP",
        "colab_type": "code",
        "colab": {
          "base_uri": "https://localhost:8080/",
          "height": 129
        },
        "outputId": "760242dd-3a1d-49fb-883e-fff1fd0e5384"
      },
      "source": [
        "from google.colab import drive\n",
        "drive.mount('/content/drive')\n",
        "#!pip install tensorflow==1.14"
      ],
      "execution_count": null,
      "outputs": [
        {
          "output_type": "stream",
          "text": [
            "Go to this URL in a browser: https://accounts.google.com/o/oauth2/auth?client_id=947318989803-6bn6qk8qdgf4n4g3pfee6491hc0brc4i.apps.googleusercontent.com&redirect_uri=urn%3aietf%3awg%3aoauth%3a2.0%3aoob&response_type=code&scope=email%20https%3a%2f%2fwww.googleapis.com%2fauth%2fdocs.test%20https%3a%2f%2fwww.googleapis.com%2fauth%2fdrive%20https%3a%2f%2fwww.googleapis.com%2fauth%2fdrive.photos.readonly%20https%3a%2f%2fwww.googleapis.com%2fauth%2fpeopleapi.readonly\n",
            "\n",
            "Enter your authorization code:\n",
            "··········\n",
            "Mounted at /content/drive\n"
          ],
          "name": "stdout"
        }
      ]
    },
    {
      "cell_type": "markdown",
      "metadata": {
        "id": "kzjFl-02Zi1P",
        "colab_type": "text"
      },
      "source": [
        "## Load Data"
      ]
    },
    {
      "cell_type": "code",
      "metadata": {
        "id": "h6ev013fZi1T",
        "colab_type": "code",
        "colab": {
          "base_uri": "https://localhost:8080/",
          "height": 35
        },
        "outputId": "12f9b10a-054b-4a9d-ce59-d5faafee1a63"
      },
      "source": [
        "import pandas as pd\n",
        "import numpy as np\n",
        "import matplotlib.pyplot as plt\n",
        "from pylab import rcParams\n",
        "from datetime import datetime\n",
        "import matplotlib.dates as mdates\n",
        "from sklearn.metrics import mean_squared_error\n",
        "from sklearn.preprocessing import MinMaxScaler\n",
        "# set seed before importing keras to change default shuffle argument to false\n",
        "from keras.models import Sequential\n",
        "from keras.layers import Dense\n",
        "from keras.layers import LSTM\n",
        "from keras.layers import Dropout\n",
        "from keras.utils import np_utils\n",
        "from keras.layers import Flatten\n",
        "import warnings\n",
        "\n",
        "yakima_450_discharge = pd.read_csv('/content/drive/My Drive/River_Discharge/ahtanum_500.csv') # saved copy from cleaned and transformed data yakima_450_discharge\n",
        "yakima_540 = yakima_450_discharge.copy()\n",
        "yakima_540 = yakima_450_discharge.set_index('date')\n",
        "yakima_540.index = pd.to_datetime(yakima_540.index)"
      ],
      "execution_count": null,
      "outputs": [
        {
          "output_type": "stream",
          "text": [
            "Using TensorFlow backend.\n"
          ],
          "name": "stderr"
        }
      ]
    },
    {
      "cell_type": "markdown",
      "metadata": {
        "id": "9woG3QkzZi1k",
        "colab_type": "text"
      },
      "source": [
        "## Naive (Baseline) Forecast\n",
        "The baseline forecast is used to understand how well the observed data at a prior time step (t-1) predict the observation at the current time step (t). A baseline forecast performance also gives an idea of how well all other models will actually perform on on this problem. This provides a lower acceptable bound of model performance."
      ]
    },
    {
      "cell_type": "code",
      "metadata": {
        "id": "MTjlSmF1Zi1m",
        "colab_type": "code",
        "colab": {
          "base_uri": "https://localhost:8080/",
          "height": 35
        },
        "outputId": "6e49e774-0516-454f-b993-3a032f469e49"
      },
      "source": [
        "dat = yakima_540.values\n",
        "\n",
        "# data at time t\n",
        "train_data = dat[:int(len(dat)*0.5)]\n",
        "test_data = dat[int(len(dat)*0.5):len((dat))]\n",
        "\n",
        "\n",
        "history = [x for x in train_data]\n",
        "predictions = list()\n",
        "for i in range(len(test_data)):\n",
        "    # make prediction\n",
        "    predictions.append(history[-7])\n",
        "    # observation\n",
        "    history.append(test_data[i])\n",
        "# report performance\n",
        "rmse_naive = np.sqrt(mean_squared_error(test_data, predictions))\n",
        "print('RMSE: %.3f' % rmse_naive)"
      ],
      "execution_count": null,
      "outputs": [
        {
          "output_type": "stream",
          "text": [
            "RMSE: 71.801\n"
          ],
          "name": "stdout"
        }
      ]
    },
    {
      "cell_type": "markdown",
      "metadata": {
        "id": "eBgVAMerZi12",
        "colab_type": "text"
      },
      "source": [
        "## Import Performance "
      ]
    },
    {
      "cell_type": "code",
      "metadata": {
        "id": "p7MZfma8Zi14",
        "colab_type": "code",
        "colab": {
          "base_uri": "https://localhost:8080/",
          "height": 235
        },
        "outputId": "ded78578-9b07-42cd-9125-90f40c148767"
      },
      "source": [
        "performance = pd.read_csv('/content/drive/My Drive/River_Discharge/Performance.csv')\n",
        "performance"
      ],
      "execution_count": null,
      "outputs": [
        {
          "output_type": "execute_result",
          "data": {
            "text/html": [
              "<div>\n",
              "<style scoped>\n",
              "    .dataframe tbody tr th:only-of-type {\n",
              "        vertical-align: middle;\n",
              "    }\n",
              "\n",
              "    .dataframe tbody tr th {\n",
              "        vertical-align: top;\n",
              "    }\n",
              "\n",
              "    .dataframe thead th {\n",
              "        text-align: right;\n",
              "    }\n",
              "</style>\n",
              "<table border=\"1\" class=\"dataframe\">\n",
              "  <thead>\n",
              "    <tr style=\"text-align: right;\">\n",
              "      <th></th>\n",
              "      <th>Model</th>\n",
              "      <th>Data Period</th>\n",
              "      <th>Mean Absolute Scaled Error (MASE)</th>\n",
              "      <th>Root Mean squared Error (RMSE)</th>\n",
              "      <th>Mean Absolue Percent Error (MAPE)</th>\n",
              "    </tr>\n",
              "  </thead>\n",
              "  <tbody>\n",
              "    <tr>\n",
              "      <th>0</th>\n",
              "      <td>Naive Forcast</td>\n",
              "      <td>12 months</td>\n",
              "      <td>-</td>\n",
              "      <td>2067.0</td>\n",
              "      <td>21.0</td>\n",
              "    </tr>\n",
              "    <tr>\n",
              "      <th>1</th>\n",
              "      <td>One-stop ahead forcast</td>\n",
              "      <td>12 months</td>\n",
              "      <td>670</td>\n",
              "      <td>476.0</td>\n",
              "      <td>79.0</td>\n",
              "    </tr>\n",
              "    <tr>\n",
              "      <th>2</th>\n",
              "      <td>Dynamic forcast</td>\n",
              "      <td>12 months</td>\n",
              "      <td>62</td>\n",
              "      <td>2669.0</td>\n",
              "      <td>58.0</td>\n",
              "    </tr>\n",
              "    <tr>\n",
              "      <th>3</th>\n",
              "      <td>Naive Forcast</td>\n",
              "      <td>January</td>\n",
              "      <td>-</td>\n",
              "      <td>2831.0</td>\n",
              "      <td>37.0</td>\n",
              "    </tr>\n",
              "    <tr>\n",
              "      <th>4</th>\n",
              "      <td>One-stop ahead forcast</td>\n",
              "      <td>January</td>\n",
              "      <td>50</td>\n",
              "      <td>385.0</td>\n",
              "      <td>46.0</td>\n",
              "    </tr>\n",
              "    <tr>\n",
              "      <th>5</th>\n",
              "      <td>Dynamic forcast</td>\n",
              "      <td>January</td>\n",
              "      <td>132</td>\n",
              "      <td>1281.0</td>\n",
              "      <td>67.0</td>\n",
              "    </tr>\n",
              "  </tbody>\n",
              "</table>\n",
              "</div>"
            ],
            "text/plain": [
              "                    Model  ... Mean Absolue Percent Error (MAPE)\n",
              "0           Naive Forcast  ...                              21.0\n",
              "1  One-stop ahead forcast  ...                              79.0\n",
              "2         Dynamic forcast  ...                              58.0\n",
              "3           Naive Forcast  ...                              37.0\n",
              "4  One-stop ahead forcast  ...                              46.0\n",
              "5         Dynamic forcast  ...                              67.0\n",
              "\n",
              "[6 rows x 5 columns]"
            ]
          },
          "metadata": {
            "tags": []
          },
          "execution_count": 5
        }
      ]
    },
    {
      "cell_type": "markdown",
      "metadata": {
        "id": "IT-WypSgZi2K",
        "colab_type": "text"
      },
      "source": [
        "## Prepare LSTM Data \n",
        "+ Transform the time series into a supervised learning problem\n",
        "+ Transform the observations to have a specific scale"
      ]
    },
    {
      "cell_type": "code",
      "metadata": {
        "id": "HUX46cQoZi2O",
        "colab_type": "code",
        "colab": {
          "base_uri": "https://localhost:8080/",
          "height": 609
        },
        "outputId": "309d843a-fea4-488d-a388-fe70b53208cb"
      },
      "source": [
        "plt.style.use('classic')\n",
        "%matplotlib inline\n",
        "rcParams['figure.figsize'] = 18, 9\n",
        "plt.rcParams.update({'font.size': 16})\n",
        "yakima_540.plot(linewidth=2.0)\n",
        "plt.title('Mean Daily Discharge in Cubic feet per Second')"
      ],
      "execution_count": null,
      "outputs": [
        {
          "output_type": "execute_result",
          "data": {
            "text/plain": [
              "Text(0.5, 1.0, 'Mean Daily Discharge in Cubic feet per Second')"
            ]
          },
          "metadata": {
            "tags": []
          },
          "execution_count": 6
        },
        {
          "output_type": "display_data",
          "data": {
            "image/png": "[encoded data removed]",
            "text/plain": [
              "<Figure size 1296x648 with 1 Axes>"
            ]
          },
          "metadata": {
            "tags": [],
            "needs_background": "light"
          }
        }
      ]
    },
    {
      "cell_type": "code",
      "metadata": {
        "id": "VTqIgqUiZi2i",
        "colab_type": "code",
        "colab": {}
      },
      "source": [
        "# get time series values\n",
        "def data_values(df):\n",
        "    dataframe = df.copy()\n",
        "    df = dataframe.values\n",
        "    dataset = df.astype('float32')\n",
        "    return df"
      ],
      "execution_count": null,
      "outputs": []
    },
    {
      "cell_type": "code",
      "metadata": {
        "id": "0P9ytQyLZi2t",
        "colab_type": "code",
        "colab": {}
      },
      "source": [
        "dataset = data_values(yakima_540)"
      ],
      "execution_count": null,
      "outputs": []
    },
    {
      "cell_type": "markdown",
      "metadata": {
        "id": "0nFSm6C2Zi25",
        "colab_type": "text"
      },
      "source": [
        "#### Transform the scale of data"
      ]
    },
    {
      "cell_type": "code",
      "metadata": {
        "id": "mS3GX0kWZi29",
        "colab_type": "code",
        "colab": {}
      },
      "source": [
        "# normalize the dataset\n",
        "def normalize(df):\n",
        "    scaler = MinMaxScaler(feature_range=(0, 1))\n",
        "    df = scaler.fit_transform(df)\n",
        "    return scaler, df"
      ],
      "execution_count": null,
      "outputs": []
    },
    {
      "cell_type": "code",
      "metadata": {
        "id": "1AOUWc13Zi3I",
        "colab_type": "code",
        "colab": {}
      },
      "source": [
        "warnings.filterwarnings(\"ignore\")\n",
        "scaler, dataset = normalize(dataset)"
      ],
      "execution_count": null,
      "outputs": []
    },
    {
      "cell_type": "markdown",
      "metadata": {
        "id": "rPESJluzZi3U",
        "colab_type": "text"
      },
      "source": [
        "#### Split into training and testing data sets"
      ]
    },
    {
      "cell_type": "code",
      "metadata": {
        "id": "_8rvry1jZi3V",
        "colab_type": "code",
        "colab": {}
      },
      "source": [
        "# split into train and test sets\n",
        "def split_data(df):\n",
        "    train_size =int(len(df) * 0.67)\n",
        "    test_size = len(df) -train_size\n",
        "    train, test = df[0:train_size-10,:], df[train_size:len(df)-4,:]\n",
        "    print('Train size : ' + str(len(train)) + ', Test size : ' + str(len(test)))\n",
        "    return train, test"
      ],
      "execution_count": null,
      "outputs": []
    },
    {
      "cell_type": "code",
      "metadata": {
        "id": "wKhuFzySZi3g",
        "colab_type": "code",
        "colab": {
          "base_uri": "https://localhost:8080/",
          "height": 34
        },
        "outputId": "89a3d88a-b315-465c-b601-e570cc36d880"
      },
      "source": [
        "train, test = split_data(dataset)"
      ],
      "execution_count": null,
      "outputs": [
        {
          "output_type": "stream",
          "text": [
            "Train size : 14784, Test size : 7284\n"
          ],
          "name": "stdout"
        }
      ]
    },
    {
      "cell_type": "markdown",
      "metadata": {
        "id": "yt7rgA1QZi3w",
        "colab_type": "text"
      },
      "source": [
        "### Transform the time series into a supervised learning problem\n",
        "\n",
        "The data is splittd into input x (observation at past time step(t-1)) and output y (observation at current time step(t)). "
      ]
    },
    {
      "cell_type": "code",
      "metadata": {
        "scrolled": true,
        "id": "cxHW5mqiZi3y",
        "colab_type": "code",
        "colab": {}
      },
      "source": [
        "def supervised_dataset(dataset, window = 1):\n",
        "    data_x, data_y = [], []\n",
        "    for i in range(len(dataset)-window-1):\n",
        "        a = dataset[i:(i+ window), 0]\n",
        "        data_x.append(a)\n",
        "        data_y.append(dataset[i + window, 0])\n",
        "    return np.array(data_x), np.array(data_y)"
      ],
      "execution_count": null,
      "outputs": []
    },
    {
      "cell_type": "code",
      "metadata": {
        "id": "2kbRvpO5Zi38",
        "colab_type": "code",
        "colab": {}
      },
      "source": [
        "# reshape into X=t and Y=t+1\n",
        "window = 3\n",
        "trainX, trainY = supervised_dataset(train, window)\n",
        "testX, testY = supervised_dataset(test, window)"
      ],
      "execution_count": null,
      "outputs": []
    },
    {
      "cell_type": "code",
      "metadata": {
        "id": "Q26Jka76JXIh",
        "colab_type": "code",
        "colab": {
          "base_uri": "https://localhost:8080/",
          "height": 172
        },
        "outputId": "65d47a50-c20c-4683-c3de-0927a43ea70e"
      },
      "source": [
        "trainX.shape"
      ],
      "execution_count": null,
      "outputs": [
        {
          "output_type": "error",
          "ename": "NameError",
          "evalue": "ignored",
          "traceback": [
            "\u001b[0;31m---------------------------------------------------------------------------\u001b[0m",
            "\u001b[0;31mNameError\u001b[0m                                 Traceback (most recent call last)",
            "\u001b[0;32m<ipython-input-4-2aeccc65ca84>\u001b[0m in \u001b[0;36m<module>\u001b[0;34m()\u001b[0m\n\u001b[0;32m----> 1\u001b[0;31m \u001b[0mtrainX\u001b[0m\u001b[0;34m.\u001b[0m\u001b[0mshape\u001b[0m\u001b[0;34m\u001b[0m\u001b[0;34m\u001b[0m\u001b[0m\n\u001b[0m",
            "\u001b[0;31mNameError\u001b[0m: name 'trainX' is not defined"
          ]
        }
      ]
    },
    {
      "cell_type": "markdown",
      "metadata": {
        "id": "XR5UTWWoZi4H",
        "colab_type": "text"
      },
      "source": [
        "### Reshape data into [sample, timesteps, features]"
      ]
    },
    {
      "cell_type": "code",
      "metadata": {
        "id": "OXlJ5GM6Zi4I",
        "colab_type": "code",
        "colab": {}
      },
      "source": [
        "# reshape input to be [samples, time steps, features]\n",
        "trainX = np.reshape(trainX, (trainX.shape[0], trainX.shape[1], 1))\n",
        "testX = np.reshape(testX, (testX.shape[0], testX.shape[1], 1))"
      ],
      "execution_count": null,
      "outputs": []
    },
    {
      "cell_type": "code",
      "metadata": {
        "id": "BurN2EwCJC92",
        "colab_type": "code",
        "colab": {
          "base_uri": "https://localhost:8080/",
          "height": 34
        },
        "outputId": "a556e7e6-b244-4d9c-8095-9abfeab3d0d7"
      },
      "source": [
        "trainX.shape"
      ],
      "execution_count": null,
      "outputs": [
        {
          "output_type": "execute_result",
          "data": {
            "text/plain": [
              "(14786, 3, 1)"
            ]
          },
          "metadata": {
            "tags": []
          },
          "execution_count": 56
        }
      ]
    },
    {
      "cell_type": "markdown",
      "metadata": {
        "id": "QJ9wwNkWZi4V",
        "colab_type": "text"
      },
      "source": [
        "### Fit Stateful LSTM Network model to the Training Data\n",
        "\n",
        "A stacked LSTM model, rendered \"stateful,\" is implemented that is capable of processing longer sequences. Two LSTM layers are stacked for higher level temporal representation. For the initial run, 50 units (neuron) is used to develop the initial model. "
      ]
    },
    {
      "cell_type": "code",
      "metadata": {
        "id": "VkjsclXHZi4a",
        "colab_type": "code",
        "colab": {}
      },
      "source": [
        "# create and fit the LSTM network\n",
        "batch_size = 10\n",
        "model = Sequential()\n",
        "model.add(LSTM(50, batch_input_shape=(batch_size, window, 1), stateful=True, return_sequences = True))\n",
        "model.add(LSTM(50, batch_input_shape=(batch_size, window, 1), stateful=True))\n",
        "model.add(Dense(1))\n",
        "model.compile(loss='mean_squared_error', optimizer='adam')"
      ],
      "execution_count": null,
      "outputs": []
    },
    {
      "cell_type": "code",
      "metadata": {
        "id": "iNsQ0Y4bZi4n",
        "colab_type": "code",
        "colab": {
          "base_uri": "https://localhost:8080/",
          "height": 255
        },
        "outputId": "9b7a077e-a664-4575-b06a-64559fae5f09"
      },
      "source": [
        "model.summary()"
      ],
      "execution_count": null,
      "outputs": [
        {
          "output_type": "stream",
          "text": [
            "Model: \"sequential_1\"\n",
            "_________________________________________________________________\n",
            "Layer (type)                 Output Shape              Param #   \n",
            "=================================================================\n",
            "lstm_1 (LSTM)                (10, 3, 50)               10400     \n",
            "_________________________________________________________________\n",
            "lstm_2 (LSTM)                (10, 50)                  20200     \n",
            "_________________________________________________________________\n",
            "dense_1 (Dense)              (10, 1)                   51        \n",
            "=================================================================\n",
            "Total params: 30,651\n",
            "Trainable params: 30,651\n",
            "Non-trainable params: 0\n",
            "_________________________________________________________________\n"
          ],
          "name": "stdout"
        }
      ]
    },
    {
      "cell_type": "code",
      "metadata": {
        "id": "RZZtF2fmZi4x",
        "colab_type": "code",
        "colab": {
          "base_uri": "https://localhost:8080/",
          "height": 374
        },
        "outputId": "ae401c57-3e96-48f6-ce3b-befa6b3ab42c"
      },
      "source": [
        "history = model.fit(trainX, trainY, validation_data=(testX, testY), epochs = 10, batch_size=10, verbose = 2, shuffle = False)\n",
        "model.reset_states()"
      ],
      "execution_count": null,
      "outputs": [
        {
          "output_type": "stream",
          "text": [
            "Train on 14780 samples, validate on 7280 samples\n",
            "Epoch 1/10\n",
            " - 16s - loss: 7.5304e-04 - val_loss: 1.7769e-04\n",
            "Epoch 2/10\n",
            " - 15s - loss: 2.3061e-04 - val_loss: 2.1404e-04\n",
            "Epoch 3/10\n",
            " - 16s - loss: 1.9937e-04 - val_loss: 9.1071e-05\n",
            "Epoch 4/10\n",
            " - 15s - loss: 1.8183e-04 - val_loss: 9.9954e-05\n",
            "Epoch 5/10\n",
            " - 15s - loss: 1.6789e-04 - val_loss: 1.0453e-04\n",
            "Epoch 6/10\n",
            " - 16s - loss: 1.6930e-04 - val_loss: 2.3044e-04\n",
            "Epoch 7/10\n",
            " - 16s - loss: 1.5464e-04 - val_loss: 1.4340e-04\n",
            "Epoch 8/10\n",
            " - 15s - loss: 1.5585e-04 - val_loss: 7.8433e-04\n",
            "Epoch 9/10\n",
            " - 15s - loss: 1.8375e-04 - val_loss: 9.7403e-05\n",
            "Epoch 10/10\n",
            " - 15s - loss: 1.5596e-04 - val_loss: 1.6841e-04\n"
          ],
          "name": "stdout"
        }
      ]
    },
    {
      "cell_type": "code",
      "metadata": {
        "scrolled": false,
        "id": "jUbytYg-Zi5U",
        "colab_type": "code",
        "colab": {
          "base_uri": "https://localhost:8080/",
          "height": 425
        },
        "outputId": "6a82ee69-0a83-45c2-81fb-aaef55bb739b"
      },
      "source": [
        "plt.style.use('classic')\n",
        "%matplotlib inline\n",
        "fig = plt.figure(figsize=(12,6))\n",
        "plt.rcParams.update({'font.size': 16})\n",
        "plt.plot(history.history['loss'])\n",
        "plt.plot(history.history['val_loss'])\n",
        "plt.title('model loss')\n",
        "plt.ylabel('loss')\n",
        "plt.xlabel('epoch')\n",
        "plt.legend(['Train MSE', 'Test MSE'], loc='upper right')\n",
        "plt.show()\n",
        "\n",
        "fig.savefig('Epoch_allmonths.png', dpi=500)"
      ],
      "execution_count": null,
      "outputs": [
        {
          "output_type": "display_data",
          "data": {
            "image/png": "[encoded data removed]",
            "text/plain": [
              "<Figure size 864x432 with 1 Axes>"
            ]
          },
          "metadata": {
            "tags": [],
            "needs_background": "light"
          }
        }
      ]
    },
    {
      "cell_type": "code",
      "metadata": {
        "id": "5gjhZhdSZi5b",
        "colab_type": "code",
        "colab": {}
      },
      "source": [
        "# make predictions\n",
        "trainPredict = model.predict(trainX, batch_size = batch_size)\n",
        "model.reset_states()\n",
        "testPredict = model.predict(testX, batch_size = batch_size)"
      ],
      "execution_count": null,
      "outputs": []
    },
    {
      "cell_type": "code",
      "metadata": {
        "id": "z5iNPBUUZi5h",
        "colab_type": "code",
        "colab": {}
      },
      "source": [
        "# invert predictions\n",
        "testPredict = model.predict(testX, batch_size=batch_size)\n",
        "trainPredict = scaler.inverse_transform(trainPredict)\n",
        "trainY = scaler.inverse_transform([trainY])\n",
        "testPredict = scaler.inverse_transform(testPredict)\n",
        "testY = scaler.inverse_transform([testY])"
      ],
      "execution_count": null,
      "outputs": []
    },
    {
      "cell_type": "code",
      "metadata": {
        "scrolled": true,
        "id": "BUd_S6NCZi5n",
        "colab_type": "code",
        "colab": {
          "base_uri": "https://localhost:8080/",
          "height": 51
        },
        "outputId": "ab2c7547-81d9-42d0-f1d5-02b36f3131e3"
      },
      "source": [
        "# calculate root mean squared error\n",
        "trainScore = np.sqrt(mean_squared_error(trainY[0], trainPredict[:,0]))\n",
        "print('Train Score: %.2f RMSE' % (trainScore))\n",
        "testScore = np.sqrt(mean_squared_error(testY[0], testPredict[:,0]))\n",
        "print('Test Score: %.2f RMSE' % (testScore))"
      ],
      "execution_count": null,
      "outputs": [
        {
          "output_type": "stream",
          "text": [
            "Train Score: 38.94 RMSE\n",
            "Test Score: 33.20 RMSE\n"
          ],
          "name": "stdout"
        }
      ]
    },
    {
      "cell_type": "markdown",
      "metadata": {
        "id": "Ry9gmobWZi5u",
        "colab_type": "text"
      },
      "source": [
        "The RSME on training and testing is better than the naive RMSE, 1587.685."
      ]
    },
    {
      "cell_type": "code",
      "metadata": {
        "id": "bmCYuTPtZi5w",
        "colab_type": "code",
        "colab": {}
      },
      "source": [
        "# shift train predictions for plotting\n",
        "trainPredictPlot = np.empty_like(dataset)\n",
        "trainPredictPlot[:, :] = np.nan\n",
        "trainPredictPlot[window:len(trainPredict)+window, :] = trainPredict"
      ],
      "execution_count": null,
      "outputs": []
    },
    {
      "cell_type": "code",
      "metadata": {
        "id": "q2TgAsVmZi52",
        "colab_type": "code",
        "colab": {}
      },
      "source": [
        "# shift test predictions for plotting\n",
        "testPredictPlot = np.empty_like(dataset)\n",
        "testPredictPlot[:, :] = np.nan\n",
        "testPredictPlot[len(trainPredict)+(window*2)+4:len(dataset)-51, :] = testPredict"
      ],
      "execution_count": null,
      "outputs": []
    },
    {
      "cell_type": "code",
      "metadata": {
        "id": "r6-DPKygZi5-",
        "colab_type": "code",
        "colab": {
          "base_uri": "https://localhost:8080/",
          "height": 524
        },
        "outputId": "68fac815-283f-47c5-bd40-6644b4d775ff"
      },
      "source": [
        "# plot baseline and predictions\n",
        "plt.style.use('classic')\n",
        "%matplotlib inline\n",
        "fig = plt.figure(figsize=(18,8))\n",
        "plt.rcParams.update({'font.size': 16})\n",
        "plt.plot(scaler.inverse_transform(dataset))\n",
        "plt.plot(trainPredictPlot)\n",
        "plt.plot(testPredictPlot)\n",
        "plt.legend(['Observed', 'Train Prediction', 'Test Prediction'])\n",
        "plt.ylabel('Mean Daily Discharge (cfs)')\n",
        "plt.xlabel('Date')\n",
        "plt.show()\n",
        "\n",
        "fig.savefig('Validation_allmonths.png', dpi=500)"
      ],
      "execution_count": null,
      "outputs": [
        {
          "output_type": "display_data",
          "data": {
            "image/png": "[encoded data removed]",
            "text/plain": [
              "<Figure size 1296x576 with 1 Axes>"
            ]
          },
          "metadata": {
            "tags": [],
            "needs_background": "light"
          }
        }
      ]
    },
    {
      "cell_type": "markdown",
      "metadata": {
        "id": "yef9_4-4Zi6G",
        "colab_type": "text"
      },
      "source": [
        "#### LSTM Hyperparameter Tuning\n",
        "\n",
        "Here are a few ideas to keep in mind when manually optimizing hyperparameters for RNNs:\n",
        "\n",
        "+ Watch out for overfitting, which happens when a neural network essentially “memorizes” the training data. \n",
        "+ Train over multiple epochs (complete passes through the dataset).\n",
        "+ Evaluate test set performance at each epoch to know when to stop (early stopping).\n",
        "      \n",
        "**Epoch**--experiment with 1-10 \n",
        "**Batch size** -- controls how often  to update the weights of the network\n",
        "**Number of neurons**"
      ]
    },
    {
      "cell_type": "code",
      "metadata": {
        "id": "zyzrq512Zi6I",
        "colab_type": "code",
        "colab": {}
      },
      "source": [
        "def lstm_fit(train, test, neurons, window, batch_size, epoch):\n",
        "    \n",
        "    trainX, trainY = supervised_dataset(train, window)\n",
        "    testX, testY = supervised_dataset(test, window)\n",
        "    trainX = np.reshape(trainX, (trainX.shape[0], trainX.shape[1], 1))\n",
        "    testX = np.reshape(testX, (testX.shape[0], testX.shape[1], 1))\n",
        "\n",
        "    # fit LSTM\n",
        "    model = Sequential()\n",
        "    model.add(LSTM(neurons, batch_input_shape=(batch_size, window, 1), stateful = True, return_sequences = True))\n",
        "    model.add(LSTM(neurons, batch_input_shape=(batch_size, window, 1), stateful = True))\n",
        "    model.add(Dense(1))\n",
        "    model.compile(loss = 'mean_squared_error', optimizer='adam')\n",
        "    \n",
        "    history = model.fit(trainX, trainY, validation_data=(testX, testY), epochs=epoch, batch_size=batch_size, verbose = 0, shuffle = False)\n",
        "    model.reset_states()\n",
        "    \n",
        "    # make prediction\n",
        "    trainPredict = model.predict(trainX, batch_size=batch_size)\n",
        "    model.reset_states()\n",
        "    testPredict = model.predict(testX, batch_size=batch_size)\n",
        "    \n",
        "    # invert predictions\n",
        "    testPredict = model.predict(testX, batch_size=batch_size)\n",
        "    trainPredict = scaler.inverse_transform(trainPredict)\n",
        "    trainY = scaler.inverse_transform([trainY])\n",
        "    testPredict = scaler.inverse_transform(testPredict)\n",
        "    testY = scaler.inverse_transform([testY])\n",
        "    \n",
        "    # calculate root mean squared error\n",
        "    train_rmse = int(np.sqrt(mean_squared_error(trainY[0], trainPredict[:,0])))\n",
        "    #print('Train Score: %.2f RMSE' % (trainScore))\n",
        "    test_rmse = int(np.sqrt(mean_squared_error(testY[0], testPredict[:,0])))\n",
        "    test_mape = int(np.mean(np.abs((testY[0] - testPredict[:,0]) / testY[0])) * 100)\n",
        "    test_mase = int(np.sqrt(test_rmse)/rmse_naive)*100\n",
        "    \n",
        "    #print('Test Score: %.2f RMSE' % (testScore))\n",
        "    return train_rmse, test_rmse, test_mape, test_mase"
      ],
      "execution_count": null,
      "outputs": []
    },
    {
      "cell_type": "markdown",
      "metadata": {
        "id": "RJEBfuYOZi6P",
        "colab_type": "text"
      },
      "source": [
        "#### Experminent under diffiferent bach size configuration"
      ]
    },
    {
      "cell_type": "code",
      "metadata": {
        "scrolled": false,
        "id": "2LsLieL8Zi6Q",
        "colab_type": "code",
        "colab": {}
      },
      "source": [
        "rmse_bc = {}\n",
        "mape_bc = {}\n",
        "mase_bc = {}\n",
        "\n",
        "for i in np.arange(1,100,1):\n",
        "    if (len(train)-4)%i==0 and (len(test)-4)%i==0:\n",
        "        train_rmse, test_rmse, test_mape, test_mase = lstm_fit(train, test, 5, 3, i, 10)\n",
        "        rmse_bc[i] = test_rmse\n",
        "        mape_bc[i] = test_mape\n",
        "        mase_bc[i] = test_mase"
      ],
      "execution_count": null,
      "outputs": []
    },
    {
      "cell_type": "code",
      "metadata": {
        "scrolled": true,
        "id": "hbunI6EKZi6a",
        "colab_type": "code",
        "colab": {
          "base_uri": "https://localhost:8080/",
          "height": 34
        },
        "outputId": "f0519d08-fa93-448f-8849-9c918bb9e31e"
      },
      "source": [
        "min(zip(rmse_bc.values(), rmse_bc.keys()))"
      ],
      "execution_count": null,
      "outputs": [
        {
          "output_type": "execute_result",
          "data": {
            "text/plain": [
              "(749, 5)"
            ]
          },
          "metadata": {
            "tags": []
          },
          "execution_count": 31
        }
      ]
    },
    {
      "cell_type": "code",
      "metadata": {
        "id": "RhiK6HbRZi6g",
        "colab_type": "code",
        "colab": {
          "base_uri": "https://localhost:8080/",
          "height": 749
        },
        "outputId": "95da8f47-3b4c-49f9-a38f-f6c8b70bd526"
      },
      "source": [
        "plt.style.use('classic')\n",
        "%matplotlib inline\n",
        "fig = plt.figure(figsize=(12,6))\n",
        "plt.rcParams.update({'font.size': 16})\n",
        "plt.plot(rmse_bc.keys(), rmse_bc.values())\n",
        "plt.title('Tune Number of  Batch Size')\n",
        "plt.ylabel('Root Mean Squared Error')\n",
        "plt.xlabel('Batch Size')\n",
        "plt.legend(['RMSE'], loc = 2)\n",
        "plt.show()\n",
        "\n",
        "#fig.savefig('Batchsize_allmonths.png', dpi=500)"
      ],
      "execution_count": null,
      "outputs": [
        {
          "output_type": "error",
          "ename": "TypeError",
          "evalue": "ignored",
          "traceback": [
            "\u001b[0;31m---------------------------------------------------------------------------\u001b[0m",
            "\u001b[0;31mTypeError\u001b[0m                                 Traceback (most recent call last)",
            "\u001b[0;32m<ipython-input-32-b00f39e070f1>\u001b[0m in \u001b[0;36m<module>\u001b[0;34m()\u001b[0m\n\u001b[1;32m      3\u001b[0m \u001b[0mfig\u001b[0m \u001b[0;34m=\u001b[0m \u001b[0mplt\u001b[0m\u001b[0;34m.\u001b[0m\u001b[0mfigure\u001b[0m\u001b[0;34m(\u001b[0m\u001b[0mfigsize\u001b[0m\u001b[0;34m=\u001b[0m\u001b[0;34m(\u001b[0m\u001b[0;36m12\u001b[0m\u001b[0;34m,\u001b[0m\u001b[0;36m6\u001b[0m\u001b[0;34m)\u001b[0m\u001b[0;34m)\u001b[0m\u001b[0;34m\u001b[0m\u001b[0;34m\u001b[0m\u001b[0m\n\u001b[1;32m      4\u001b[0m \u001b[0mplt\u001b[0m\u001b[0;34m.\u001b[0m\u001b[0mrcParams\u001b[0m\u001b[0;34m.\u001b[0m\u001b[0mupdate\u001b[0m\u001b[0;34m(\u001b[0m\u001b[0;34m{\u001b[0m\u001b[0;34m'font.size'\u001b[0m\u001b[0;34m:\u001b[0m \u001b[0;36m16\u001b[0m\u001b[0;34m}\u001b[0m\u001b[0;34m)\u001b[0m\u001b[0;34m\u001b[0m\u001b[0;34m\u001b[0m\u001b[0m\n\u001b[0;32m----> 5\u001b[0;31m \u001b[0mplt\u001b[0m\u001b[0;34m.\u001b[0m\u001b[0mplot\u001b[0m\u001b[0;34m(\u001b[0m\u001b[0mrmse_bc\u001b[0m\u001b[0;34m.\u001b[0m\u001b[0mkeys\u001b[0m\u001b[0;34m(\u001b[0m\u001b[0;34m)\u001b[0m\u001b[0;34m,\u001b[0m \u001b[0mrmse_bc\u001b[0m\u001b[0;34m.\u001b[0m\u001b[0mvalues\u001b[0m\u001b[0;34m(\u001b[0m\u001b[0;34m)\u001b[0m\u001b[0;34m)\u001b[0m\u001b[0;34m\u001b[0m\u001b[0;34m\u001b[0m\u001b[0m\n\u001b[0m\u001b[1;32m      6\u001b[0m \u001b[0mplt\u001b[0m\u001b[0;34m.\u001b[0m\u001b[0mtitle\u001b[0m\u001b[0;34m(\u001b[0m\u001b[0;34m'Tune Number of  Batch Size'\u001b[0m\u001b[0;34m)\u001b[0m\u001b[0;34m\u001b[0m\u001b[0;34m\u001b[0m\u001b[0m\n\u001b[1;32m      7\u001b[0m \u001b[0mplt\u001b[0m\u001b[0;34m.\u001b[0m\u001b[0mylabel\u001b[0m\u001b[0;34m(\u001b[0m\u001b[0;34m'Root Mean Squared Error'\u001b[0m\u001b[0;34m)\u001b[0m\u001b[0;34m\u001b[0m\u001b[0;34m\u001b[0m\u001b[0m\n",
            "\u001b[0;32m/usr/local/lib/python3.6/dist-packages/matplotlib/pyplot.py\u001b[0m in \u001b[0;36mplot\u001b[0;34m(scalex, scaley, data, *args, **kwargs)\u001b[0m\n\u001b[1;32m   2761\u001b[0m     return gca().plot(\n\u001b[1;32m   2762\u001b[0m         *args, scalex=scalex, scaley=scaley, **({\"data\": data} if data\n\u001b[0;32m-> 2763\u001b[0;31m         is not None else {}), **kwargs)\n\u001b[0m\u001b[1;32m   2764\u001b[0m \u001b[0;34m\u001b[0m\u001b[0m\n\u001b[1;32m   2765\u001b[0m \u001b[0;34m\u001b[0m\u001b[0m\n",
            "\u001b[0;32m/usr/local/lib/python3.6/dist-packages/matplotlib/axes/_axes.py\u001b[0m in \u001b[0;36mplot\u001b[0;34m(self, scalex, scaley, data, *args, **kwargs)\u001b[0m\n\u001b[1;32m   1646\u001b[0m         \u001b[0mlines\u001b[0m \u001b[0;34m=\u001b[0m \u001b[0;34m[\u001b[0m\u001b[0;34m*\u001b[0m\u001b[0mself\u001b[0m\u001b[0;34m.\u001b[0m\u001b[0m_get_lines\u001b[0m\u001b[0;34m(\u001b[0m\u001b[0;34m*\u001b[0m\u001b[0margs\u001b[0m\u001b[0;34m,\u001b[0m \u001b[0mdata\u001b[0m\u001b[0;34m=\u001b[0m\u001b[0mdata\u001b[0m\u001b[0;34m,\u001b[0m \u001b[0;34m**\u001b[0m\u001b[0mkwargs\u001b[0m\u001b[0;34m)\u001b[0m\u001b[0;34m]\u001b[0m\u001b[0;34m\u001b[0m\u001b[0;34m\u001b[0m\u001b[0m\n\u001b[1;32m   1647\u001b[0m         \u001b[0;32mfor\u001b[0m \u001b[0mline\u001b[0m \u001b[0;32min\u001b[0m \u001b[0mlines\u001b[0m\u001b[0;34m:\u001b[0m\u001b[0;34m\u001b[0m\u001b[0;34m\u001b[0m\u001b[0m\n\u001b[0;32m-> 1648\u001b[0;31m             \u001b[0mself\u001b[0m\u001b[0;34m.\u001b[0m\u001b[0madd_line\u001b[0m\u001b[0;34m(\u001b[0m\u001b[0mline\u001b[0m\u001b[0;34m)\u001b[0m\u001b[0;34m\u001b[0m\u001b[0;34m\u001b[0m\u001b[0m\n\u001b[0m\u001b[1;32m   1649\u001b[0m         \u001b[0mself\u001b[0m\u001b[0;34m.\u001b[0m\u001b[0m_request_autoscale_view\u001b[0m\u001b[0;34m(\u001b[0m\u001b[0mscalex\u001b[0m\u001b[0;34m=\u001b[0m\u001b[0mscalex\u001b[0m\u001b[0;34m,\u001b[0m \u001b[0mscaley\u001b[0m\u001b[0;34m=\u001b[0m\u001b[0mscaley\u001b[0m\u001b[0;34m)\u001b[0m\u001b[0;34m\u001b[0m\u001b[0;34m\u001b[0m\u001b[0m\n\u001b[1;32m   1650\u001b[0m         \u001b[0;32mreturn\u001b[0m \u001b[0mlines\u001b[0m\u001b[0;34m\u001b[0m\u001b[0;34m\u001b[0m\u001b[0m\n",
            "\u001b[0;32m/usr/local/lib/python3.6/dist-packages/matplotlib/axes/_base.py\u001b[0m in \u001b[0;36madd_line\u001b[0;34m(self, line)\u001b[0m\n\u001b[1;32m   1848\u001b[0m             \u001b[0mline\u001b[0m\u001b[0;34m.\u001b[0m\u001b[0mset_clip_path\u001b[0m\u001b[0;34m(\u001b[0m\u001b[0mself\u001b[0m\u001b[0;34m.\u001b[0m\u001b[0mpatch\u001b[0m\u001b[0;34m)\u001b[0m\u001b[0;34m\u001b[0m\u001b[0;34m\u001b[0m\u001b[0m\n\u001b[1;32m   1849\u001b[0m \u001b[0;34m\u001b[0m\u001b[0m\n\u001b[0;32m-> 1850\u001b[0;31m         \u001b[0mself\u001b[0m\u001b[0;34m.\u001b[0m\u001b[0m_update_line_limits\u001b[0m\u001b[0;34m(\u001b[0m\u001b[0mline\u001b[0m\u001b[0;34m)\u001b[0m\u001b[0;34m\u001b[0m\u001b[0;34m\u001b[0m\u001b[0m\n\u001b[0m\u001b[1;32m   1851\u001b[0m         \u001b[0;32mif\u001b[0m \u001b[0;32mnot\u001b[0m \u001b[0mline\u001b[0m\u001b[0;34m.\u001b[0m\u001b[0mget_label\u001b[0m\u001b[0;34m(\u001b[0m\u001b[0;34m)\u001b[0m\u001b[0;34m:\u001b[0m\u001b[0;34m\u001b[0m\u001b[0;34m\u001b[0m\u001b[0m\n\u001b[1;32m   1852\u001b[0m             \u001b[0mline\u001b[0m\u001b[0;34m.\u001b[0m\u001b[0mset_label\u001b[0m\u001b[0;34m(\u001b[0m\u001b[0;34m'_line%d'\u001b[0m \u001b[0;34m%\u001b[0m \u001b[0mlen\u001b[0m\u001b[0;34m(\u001b[0m\u001b[0mself\u001b[0m\u001b[0;34m.\u001b[0m\u001b[0mlines\u001b[0m\u001b[0;34m)\u001b[0m\u001b[0;34m)\u001b[0m\u001b[0;34m\u001b[0m\u001b[0;34m\u001b[0m\u001b[0m\n",
            "\u001b[0;32m/usr/local/lib/python3.6/dist-packages/matplotlib/axes/_base.py\u001b[0m in \u001b[0;36m_update_line_limits\u001b[0;34m(self, line)\u001b[0m\n\u001b[1;32m   1870\u001b[0m         \u001b[0mFigures\u001b[0m \u001b[0mout\u001b[0m \u001b[0mthe\u001b[0m \u001b[0mdata\u001b[0m \u001b[0mlimit\u001b[0m \u001b[0mof\u001b[0m \u001b[0mthe\u001b[0m \u001b[0mgiven\u001b[0m \u001b[0mline\u001b[0m\u001b[0;34m,\u001b[0m \u001b[0mupdating\u001b[0m \u001b[0mself\u001b[0m\u001b[0;34m.\u001b[0m\u001b[0mdataLim\u001b[0m\u001b[0;34m.\u001b[0m\u001b[0;34m\u001b[0m\u001b[0;34m\u001b[0m\u001b[0m\n\u001b[1;32m   1871\u001b[0m         \"\"\"\n\u001b[0;32m-> 1872\u001b[0;31m         \u001b[0mpath\u001b[0m \u001b[0;34m=\u001b[0m \u001b[0mline\u001b[0m\u001b[0;34m.\u001b[0m\u001b[0mget_path\u001b[0m\u001b[0;34m(\u001b[0m\u001b[0;34m)\u001b[0m\u001b[0;34m\u001b[0m\u001b[0;34m\u001b[0m\u001b[0m\n\u001b[0m\u001b[1;32m   1873\u001b[0m         \u001b[0;32mif\u001b[0m \u001b[0mpath\u001b[0m\u001b[0;34m.\u001b[0m\u001b[0mvertices\u001b[0m\u001b[0;34m.\u001b[0m\u001b[0msize\u001b[0m \u001b[0;34m==\u001b[0m \u001b[0;36m0\u001b[0m\u001b[0;34m:\u001b[0m\u001b[0;34m\u001b[0m\u001b[0;34m\u001b[0m\u001b[0m\n\u001b[1;32m   1874\u001b[0m             \u001b[0;32mreturn\u001b[0m\u001b[0;34m\u001b[0m\u001b[0;34m\u001b[0m\u001b[0m\n",
            "\u001b[0;32m/usr/local/lib/python3.6/dist-packages/matplotlib/lines.py\u001b[0m in \u001b[0;36mget_path\u001b[0;34m(self)\u001b[0m\n\u001b[1;32m   1025\u001b[0m         \"\"\"\n\u001b[1;32m   1026\u001b[0m         \u001b[0;32mif\u001b[0m \u001b[0mself\u001b[0m\u001b[0;34m.\u001b[0m\u001b[0m_invalidy\u001b[0m \u001b[0;32mor\u001b[0m \u001b[0mself\u001b[0m\u001b[0;34m.\u001b[0m\u001b[0m_invalidx\u001b[0m\u001b[0;34m:\u001b[0m\u001b[0;34m\u001b[0m\u001b[0;34m\u001b[0m\u001b[0m\n\u001b[0;32m-> 1027\u001b[0;31m             \u001b[0mself\u001b[0m\u001b[0;34m.\u001b[0m\u001b[0mrecache\u001b[0m\u001b[0;34m(\u001b[0m\u001b[0;34m)\u001b[0m\u001b[0;34m\u001b[0m\u001b[0;34m\u001b[0m\u001b[0m\n\u001b[0m\u001b[1;32m   1028\u001b[0m         \u001b[0;32mreturn\u001b[0m \u001b[0mself\u001b[0m\u001b[0;34m.\u001b[0m\u001b[0m_path\u001b[0m\u001b[0;34m\u001b[0m\u001b[0;34m\u001b[0m\u001b[0m\n\u001b[1;32m   1029\u001b[0m \u001b[0;34m\u001b[0m\u001b[0m\n",
            "\u001b[0;32m/usr/local/lib/python3.6/dist-packages/matplotlib/lines.py\u001b[0m in \u001b[0;36mrecache\u001b[0;34m(self, always)\u001b[0m\n\u001b[1;32m    668\u001b[0m         \u001b[0;32mif\u001b[0m \u001b[0malways\u001b[0m \u001b[0;32mor\u001b[0m \u001b[0mself\u001b[0m\u001b[0;34m.\u001b[0m\u001b[0m_invalidx\u001b[0m\u001b[0;34m:\u001b[0m\u001b[0;34m\u001b[0m\u001b[0;34m\u001b[0m\u001b[0m\n\u001b[1;32m    669\u001b[0m             \u001b[0mxconv\u001b[0m \u001b[0;34m=\u001b[0m \u001b[0mself\u001b[0m\u001b[0;34m.\u001b[0m\u001b[0mconvert_xunits\u001b[0m\u001b[0;34m(\u001b[0m\u001b[0mself\u001b[0m\u001b[0;34m.\u001b[0m\u001b[0m_xorig\u001b[0m\u001b[0;34m)\u001b[0m\u001b[0;34m\u001b[0m\u001b[0;34m\u001b[0m\u001b[0m\n\u001b[0;32m--> 670\u001b[0;31m             \u001b[0mx\u001b[0m \u001b[0;34m=\u001b[0m \u001b[0m_to_unmasked_float_array\u001b[0m\u001b[0;34m(\u001b[0m\u001b[0mxconv\u001b[0m\u001b[0;34m)\u001b[0m\u001b[0;34m.\u001b[0m\u001b[0mravel\u001b[0m\u001b[0;34m(\u001b[0m\u001b[0;34m)\u001b[0m\u001b[0;34m\u001b[0m\u001b[0;34m\u001b[0m\u001b[0m\n\u001b[0m\u001b[1;32m    671\u001b[0m         \u001b[0;32melse\u001b[0m\u001b[0;34m:\u001b[0m\u001b[0;34m\u001b[0m\u001b[0;34m\u001b[0m\u001b[0m\n\u001b[1;32m    672\u001b[0m             \u001b[0mx\u001b[0m \u001b[0;34m=\u001b[0m \u001b[0mself\u001b[0m\u001b[0;34m.\u001b[0m\u001b[0m_x\u001b[0m\u001b[0;34m\u001b[0m\u001b[0;34m\u001b[0m\u001b[0m\n",
            "\u001b[0;32m/usr/local/lib/python3.6/dist-packages/matplotlib/cbook/__init__.py\u001b[0m in \u001b[0;36m_to_unmasked_float_array\u001b[0;34m(x)\u001b[0m\n\u001b[1;32m   1315\u001b[0m         \u001b[0;32mreturn\u001b[0m \u001b[0mnp\u001b[0m\u001b[0;34m.\u001b[0m\u001b[0mma\u001b[0m\u001b[0;34m.\u001b[0m\u001b[0masarray\u001b[0m\u001b[0;34m(\u001b[0m\u001b[0mx\u001b[0m\u001b[0;34m,\u001b[0m \u001b[0mfloat\u001b[0m\u001b[0;34m)\u001b[0m\u001b[0;34m.\u001b[0m\u001b[0mfilled\u001b[0m\u001b[0;34m(\u001b[0m\u001b[0mnp\u001b[0m\u001b[0;34m.\u001b[0m\u001b[0mnan\u001b[0m\u001b[0;34m)\u001b[0m\u001b[0;34m\u001b[0m\u001b[0;34m\u001b[0m\u001b[0m\n\u001b[1;32m   1316\u001b[0m     \u001b[0;32melse\u001b[0m\u001b[0;34m:\u001b[0m\u001b[0;34m\u001b[0m\u001b[0;34m\u001b[0m\u001b[0m\n\u001b[0;32m-> 1317\u001b[0;31m         \u001b[0;32mreturn\u001b[0m \u001b[0mnp\u001b[0m\u001b[0;34m.\u001b[0m\u001b[0masarray\u001b[0m\u001b[0;34m(\u001b[0m\u001b[0mx\u001b[0m\u001b[0;34m,\u001b[0m \u001b[0mfloat\u001b[0m\u001b[0;34m)\u001b[0m\u001b[0;34m\u001b[0m\u001b[0;34m\u001b[0m\u001b[0m\n\u001b[0m\u001b[1;32m   1318\u001b[0m \u001b[0;34m\u001b[0m\u001b[0m\n\u001b[1;32m   1319\u001b[0m \u001b[0;34m\u001b[0m\u001b[0m\n",
            "\u001b[0;32m/usr/local/lib/python3.6/dist-packages/numpy/core/_asarray.py\u001b[0m in \u001b[0;36masarray\u001b[0;34m(a, dtype, order)\u001b[0m\n\u001b[1;32m     83\u001b[0m \u001b[0;34m\u001b[0m\u001b[0m\n\u001b[1;32m     84\u001b[0m     \"\"\"\n\u001b[0;32m---> 85\u001b[0;31m     \u001b[0;32mreturn\u001b[0m \u001b[0marray\u001b[0m\u001b[0;34m(\u001b[0m\u001b[0ma\u001b[0m\u001b[0;34m,\u001b[0m \u001b[0mdtype\u001b[0m\u001b[0;34m,\u001b[0m \u001b[0mcopy\u001b[0m\u001b[0;34m=\u001b[0m\u001b[0;32mFalse\u001b[0m\u001b[0;34m,\u001b[0m \u001b[0morder\u001b[0m\u001b[0;34m=\u001b[0m\u001b[0morder\u001b[0m\u001b[0;34m)\u001b[0m\u001b[0;34m\u001b[0m\u001b[0;34m\u001b[0m\u001b[0m\n\u001b[0m\u001b[1;32m     86\u001b[0m \u001b[0;34m\u001b[0m\u001b[0m\n\u001b[1;32m     87\u001b[0m \u001b[0;34m\u001b[0m\u001b[0m\n",
            "\u001b[0;31mTypeError\u001b[0m: float() argument must be a string or a number, not 'dict_keys'"
          ]
        },
        {
          "output_type": "display_data",
          "data": {
            "image/png": "[encoded data removed]",
            "text/plain": [
              "<Figure size 864x432 with 1 Axes>"
            ]
          },
          "metadata": {
            "tags": [],
            "needs_background": "light"
          }
        }
      ]
    },
    {
      "cell_type": "markdown",
      "metadata": {
        "id": "WiXM8e3jZi6l",
        "colab_type": "text"
      },
      "source": [
        "With a range of 1 to 100 bach sizes, the network is performed best at batch size of 2 and 10."
      ]
    },
    {
      "cell_type": "markdown",
      "metadata": {
        "id": "jD4kdmCnZi6m",
        "colab_type": "text"
      },
      "source": [
        "#### Experiment with different number of neurons"
      ]
    },
    {
      "cell_type": "code",
      "metadata": {
        "scrolled": false,
        "id": "jWfn-y4SZi6n",
        "colab_type": "code",
        "colab": {}
      },
      "source": [
        "rmse_n = {}\n",
        "mape_n = {}\n",
        "mase_n = {}\n",
        "\n",
        "for i in range (1,11):\n",
        "    train_rmse, test_rmse, test_mape, test_mase = lstm_fit(train, test, i, 3, 10, 10)\n",
        "    rmse_n[i] = test_rmse\n",
        "    mape_n[i] = test_mape\n",
        "    mase_n[i] = test_mase"
      ],
      "execution_count": null,
      "outputs": []
    },
    {
      "cell_type": "code",
      "metadata": {
        "id": "cn9YE4QgZi6r",
        "colab_type": "code",
        "colab": {}
      },
      "source": [
        "min(zip(rmse_n.values(), rmse_n.keys()))"
      ],
      "execution_count": null,
      "outputs": []
    },
    {
      "cell_type": "code",
      "metadata": {
        "id": "yPhYOxLZZi6w",
        "colab_type": "code",
        "colab": {}
      },
      "source": [
        "plt.style.use('classic')\n",
        "%matplotlib inline\n",
        "fig = plt.figure(figsize=(12,6))\n",
        "plt.rcParams.update({'font.size': 16})\n",
        "plt.plot(rmse_n.keys(), rmse_n.values())\n",
        "plt.title('Tune Number of Neuron')\n",
        "plt.ylabel('RMSE')\n",
        "plt.xlabel('Number of Neuron')\n",
        "plt.legend(['RMSE'], loc = 2)\n",
        "plt.show()\n",
        "\n",
        "fig.savefig('Neuron_allmonths.png', dpi=500)"
      ],
      "execution_count": null,
      "outputs": []
    },
    {
      "cell_type": "markdown",
      "metadata": {
        "id": "FZhO10PUZi60",
        "colab_type": "text"
      },
      "source": [
        "The network improves its performance as the number of neurons used increased from 1 to 10. The best network was obtained at 10 number of neurons with RMSE score 762 on testing time series. "
      ]
    },
    {
      "cell_type": "code",
      "metadata": {
        "id": "KCJOxhSeZi60",
        "colab_type": "code",
        "colab": {}
      },
      "source": [
        "# lstm_fit(train, test, neurons, window, batch_size, epoch)\n",
        "train_rmse, test_rmse, test_mape, test_mase = lstm_fit(train, test, 10, 3, 10, 10)\n",
        "test_rmse"
      ],
      "execution_count": null,
      "outputs": []
    },
    {
      "cell_type": "code",
      "metadata": {
        "id": "9twj5y_pZi64",
        "colab_type": "code",
        "colab": {}
      },
      "source": [
        "row = performance.shape[0]\n",
        "performance.loc[row] = ['LSTM', '12 months', test_mase, test_rmse, test_mape]"
      ],
      "execution_count": null,
      "outputs": []
    },
    {
      "cell_type": "code",
      "metadata": {
        "id": "W0HC-JfbZi68",
        "colab_type": "code",
        "colab": {}
      },
      "source": [
        "performance"
      ],
      "execution_count": null,
      "outputs": []
    },
    {
      "cell_type": "markdown",
      "metadata": {
        "id": "HR7bli-tZi7A",
        "colab_type": "text"
      },
      "source": [
        "The LSTM network trained with 12 months record outperforms naive forecast on RMSE and MAPE, which indicates LSTM is more powerful than  ARIMA model in these data sets."
      ]
    },
    {
      "cell_type": "markdown",
      "metadata": {
        "id": "pwrujB42Zi7B",
        "colab_type": "text"
      },
      "source": [
        "## Fit LSTM with Lowest Discharge Month\n",
        "The January time series (the month with lowest discharge record) is used to train LSTM network."
      ]
    },
    {
      "cell_type": "code",
      "metadata": {
        "id": "En0uurHeZi7C",
        "colab_type": "code",
        "colab": {}
      },
      "source": [
        "jan_q_cfs = yakima_540[yakima_540.index.month==1]\n",
        "jan_q_cfs.index"
      ],
      "execution_count": null,
      "outputs": []
    },
    {
      "cell_type": "markdown",
      "metadata": {
        "id": "edgqbAgaZi7G",
        "colab_type": "text"
      },
      "source": [
        "### Transform data"
      ]
    },
    {
      "cell_type": "code",
      "metadata": {
        "id": "acU6Oi0xZi7H",
        "colab_type": "code",
        "colab": {}
      },
      "source": [
        "# separate data values\n",
        "jan_q_cfs = jan_q_cfs.copy()\n",
        "dataset_j = data_values(jan_q_cfs)\n",
        "# normalize data into (0,1) scale\n",
        "scaler, dataset_j = normalize(dataset_j)\n",
        "\n",
        "# split data \n",
        "train_size_j = int(len(dataset_j) * 0.87)\n",
        "test_size_j = len(dataset_j) - train_size_j\n",
        "train_j, test_j = dataset_j[0:train_size_j-25,:], dataset_j[train_size_j-10:len(dataset_j),:]\n",
        "print('Train size : ' + str(len(train_j)) + ', Test size : ' + str(len(test_j)))"
      ],
      "execution_count": null,
      "outputs": []
    },
    {
      "cell_type": "markdown",
      "metadata": {
        "id": "QhTxsua6Zi7N",
        "colab_type": "text"
      },
      "source": [
        "### Train LSTM"
      ]
    },
    {
      "cell_type": "code",
      "metadata": {
        "id": "SJyWosjCZi7O",
        "colab_type": "code",
        "colab": {}
      },
      "source": [
        "# lstm_fit(train, test, neurons, window, batch_size, epoch)\n",
        "train_j_rmse, test_j_rmse, test_j_mape, test_j_mase = lstm_fit(train_j, test_j, 8, 3, 10, 100)\n",
        "test_j_rmse"
      ],
      "execution_count": null,
      "outputs": []
    },
    {
      "cell_type": "markdown",
      "metadata": {
        "id": "FTAaWg94Zi7S",
        "colab_type": "text"
      },
      "source": [
        "#### Experiment with different number of epoch \n",
        "As the time series size, January record, is relatively small, we can experiment using a higher number of epochs."
      ]
    },
    {
      "cell_type": "code",
      "metadata": {
        "id": "_U5o5qu6Zi7T",
        "colab_type": "code",
        "colab": {}
      },
      "source": [
        "rmse_e_j = {}\n",
        "mape_e_j = {}\n",
        "mase_e_j = {}\n",
        "\n",
        "for i in np.arange(100,1000, 100):\n",
        "    train_rmse, test_rmse, test_mape, test_mase = lstm_fit(train_j, test_j, 8, 3, 10, i)\n",
        "    rmse_e_j[i] = test_rmse\n",
        "    mape_e_j[i] = test_mape\n",
        "    mase_e_j[i] = test_mase"
      ],
      "execution_count": null,
      "outputs": []
    },
    {
      "cell_type": "code",
      "metadata": {
        "id": "vdGziOlqZi7Z",
        "colab_type": "code",
        "colab": {}
      },
      "source": [
        "#sort(zip(rmse_e_j.values(), rmse_e_j.keys()))\n",
        "sorted(rmse_e_j.items(), key=lambda kv: kv[1])"
      ],
      "execution_count": null,
      "outputs": []
    },
    {
      "cell_type": "markdown",
      "metadata": {
        "id": "wnpADmTVZi7d",
        "colab_type": "text"
      },
      "source": [
        "The optimum network is obtained at epoch 700, 200, and 300. Epoch 200 seems a good size as it will minimize time complexities."
      ]
    },
    {
      "cell_type": "code",
      "metadata": {
        "id": "yKYzGu_yZi7d",
        "colab_type": "code",
        "colab": {}
      },
      "source": [
        "plt.style.use('classic')\n",
        "%matplotlib inline\n",
        "fig = plt.figure(figsize=(14,6))\n",
        "plt.rcParams.update({'font.size': 16})\n",
        "plt.plot(rmse_e_j.keys(), rmse_e_j.values())\n",
        "plt.title('Tune with Number of Epoch')\n",
        "plt.ylabel('RMSE')\n",
        "plt.xlabel('epoch')\n",
        "plt.legend(['RMSE'], loc = 2)\n",
        "plt.show()\n",
        "\n",
        "fig.savefig('Epoch_January.png', dpi=500)"
      ],
      "execution_count": null,
      "outputs": []
    },
    {
      "cell_type": "markdown",
      "metadata": {
        "id": "9OMBOig8Zi7k",
        "colab_type": "text"
      },
      "source": [
        "#### Experminent under diffiferent bach size configuration"
      ]
    },
    {
      "cell_type": "code",
      "metadata": {
        "id": "W4KAKcZcZi7k",
        "colab_type": "code",
        "colab": {}
      },
      "source": [
        "rmse_bs_j = {}\n",
        "mape_bs_j = {}\n",
        "mase_bs_j = {}\n",
        "\n",
        "for i in np.arange(2,100,1):\n",
        "    if (len(train_j)-4)%i==0 and (len(test_j)-4)%i==0:\n",
        "        train_rmse, test_rmse, test_mape, test_mase = lstm_fit(train_j, test_j, 8, 3, i, 200)\n",
        "        rmse_bs_j[i] = test_rmse\n",
        "        mape_bs_j[i] = test_mape\n",
        "        mase_bs_j[i] = test_mase"
      ],
      "execution_count": null,
      "outputs": []
    },
    {
      "cell_type": "code",
      "metadata": {
        "scrolled": true,
        "id": "o2oC1uDoZi7o",
        "colab_type": "code",
        "colab": {}
      },
      "source": [
        "min(zip(rmse_bs_j.values(), rmse_bs_j.keys()))"
      ],
      "execution_count": null,
      "outputs": []
    },
    {
      "cell_type": "code",
      "metadata": {
        "id": "HI15lUQXZi7w",
        "colab_type": "code",
        "colab": {}
      },
      "source": [
        "plt.style.use('classic')\n",
        "%matplotlib inline\n",
        "fig = plt.figure(figsize=(12,6))\n",
        "plt.rcParams.update({'font.size': 16})\n",
        "plt.plot(rmse_bs_j.keys(), rmse_bs_j.values())\n",
        "plt.title('Tune with Batch Size')\n",
        "plt.ylabel('RMSE')\n",
        "plt.xlabel('Batch Size')\n",
        "plt.legend(['MSE'], loc = 2)\n",
        "plt.show()\n",
        "\n",
        "fig.savefig('Bachsize_January.png', dpi=500)"
      ],
      "execution_count": null,
      "outputs": []
    },
    {
      "cell_type": "code",
      "metadata": {
        "id": "3Fh5MSdZZi7z",
        "colab_type": "code",
        "colab": {}
      },
      "source": [
        "# lstm_fit(train, test, neurons, window, batch_size, epoch)\n",
        "train_rmse_j, test_rmse_j, test_mape_j, test_mase_j = lstm_fit(train_j, test_j, 10, 3, 2, 200)\n",
        "test_rmse_j"
      ],
      "execution_count": null,
      "outputs": []
    },
    {
      "cell_type": "code",
      "metadata": {
        "id": "ZYTwgIv7Zi72",
        "colab_type": "code",
        "colab": {}
      },
      "source": [
        "row = performance.shape[0]\n",
        "performance.loc[row] = ['LSTM', 'January', test_mase_j, test_rmse_j, test_mape_j]"
      ],
      "execution_count": null,
      "outputs": []
    },
    {
      "cell_type": "code",
      "metadata": {
        "scrolled": true,
        "id": "ezQym6i5Zi76",
        "colab_type": "code",
        "colab": {}
      },
      "source": [
        "performance"
      ],
      "execution_count": null,
      "outputs": []
    },
    {
      "cell_type": "code",
      "metadata": {
        "id": "RJXh6uReZi79",
        "colab_type": "code",
        "colab": {}
      },
      "source": [
        "performance.plot(kind = 'barh', x= 'Model', y= 'Root Mean squared Error (RMSE)', figsize=(14,6))"
      ],
      "execution_count": null,
      "outputs": []
    },
    {
      "cell_type": "code",
      "metadata": {
        "id": "qPBFRZ-QZi8B",
        "colab_type": "code",
        "colab": {}
      },
      "source": [
        "performance.plot(kind = 'barh', x= 'Model', y = 'Mean Absolue Percent Error (MAPE)', figsize=(14,6))"
      ],
      "execution_count": null,
      "outputs": []
    },
    {
      "cell_type": "code",
      "metadata": {
        "id": "8GTVvYLkZi8F",
        "colab_type": "code",
        "colab": {}
      },
      "source": [
        "performance.to_csv('performance.csv')"
      ],
      "execution_count": null,
      "outputs": []
    },
    {
      "cell_type": "markdown",
      "metadata": {
        "id": "kJcVjxBtZi8L",
        "colab_type": "text"
      },
      "source": [
        "### Conclusion"
      ]
    },
    {
      "cell_type": "markdown",
      "metadata": {
        "id": "IP_8FmGaZi8M",
        "colab_type": "text"
      },
      "source": [
        "The performance of ARIMA and LSTM is compared in river flow forecast. These methods were implemented in two scenarios, forecast using all seasons record (12 months) and using the lowest flow season daily record (January). On all season time series, LSTM prediction accuracy was superior to ARIMA (refer the ARIMA dynamic forecast case. The one-step-forecast performance is not compared as it was trained with all data). The use of January time series improved the prediction accuracy of the two methods. From this preliminary result, we can conclude that LSTM method is an effective method for forecasting river flow. The proposed method can be applied in other regions with similar environmental setup. In order to improve the prediction accuracy to the desired level,  advanced hyperparameter tuning with a higher number of river flow data is suggested.  "
      ]
    }
  ]
}